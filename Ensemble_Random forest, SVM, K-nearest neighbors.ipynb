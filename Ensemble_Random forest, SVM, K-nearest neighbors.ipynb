{
 "cells": [
  {
   "cell_type": "markdown",
   "metadata": {},
   "source": [
    "<h1 align=center> Ensemble of models </h1>\n",
    "<h3 align=center> Random forest, SVM, K-nearest neighbors</h3>"
   ]
  },
  {
   "cell_type": "markdown",
   "metadata": {},
   "source": [
    "# Import libraries"
   ]
  },
  {
   "cell_type": "code",
   "execution_count": 4,
   "metadata": {},
   "outputs": [
    {
     "name": "stderr",
     "output_type": "stream",
     "text": [
      "/home/ahmed/ml/env/lib/python3.6/site-packages/sklearn/ensemble/weight_boosting.py:29: DeprecationWarning: numpy.core.umath_tests is an internal NumPy module and should not be imported. It will be removed in a future NumPy release.\n",
      "  from numpy.core.umath_tests import inner1d\n"
     ]
    }
   ],
   "source": [
    "import os\n",
    "import skimage\n",
    "from skimage import io\n",
    "import scipy\n",
    "import numpy as np\n",
    "from sklearn.svm import LinearSVC\n",
    "from sklearn.svm import SVC\n",
    "from sklearn.ensemble import RandomForestClassifier\n",
    "from sklearn import neighbors\n",
    "from sklearn.neighbors import KNeighborsClassifier\n",
    "from sklearn.externals import joblib\n"
   ]
  },
  {
   "cell_type": "markdown",
   "metadata": {},
   "source": [
    "# Load training, testing, validation dataset"
   ]
  },
  {
   "cell_type": "code",
   "execution_count": 2,
   "metadata": {},
   "outputs": [
    {
     "data": {
      "text/plain": [
       "5831"
      ]
     },
     "execution_count": 2,
     "metadata": {},
     "output_type": "execute_result"
    }
   ],
   "source": [
    "train_path = os.path.join(\"datasets\", \"ASL\", \"training _data\")\n",
    "test_path = os.path.join(\"datasets\", \"ASL\", \"test_data\")\n",
    "valid_path = os.path.join(\"datasets\", \"ASL\", \"validation_data\")\n",
    "\n",
    "def load_data(data_dir):\n",
    "    # Get all subdirectories of data_dir. Each represents a label.\n",
    "    directories = [d for d in os.listdir(data_dir) \n",
    "                   if os.path.isdir(os.path.join(data_dir, d))]\n",
    "    # Loop through the label directories and collect the data in\n",
    "    # two lists, labels and images.\n",
    "    labels = []\n",
    "    images = []\n",
    "    for d in directories:\n",
    "        label_dir = os.path.join(data_dir, d)\n",
    "        file_names = [os.path.join(label_dir, f) \n",
    "                      for f in os.listdir(label_dir) \n",
    "                      if (f.endswith(\".jpg\")) | (f.endswith(\".JPG\")) ]\n",
    "        for f in file_names:\n",
    "            images.append(skimage.data.imread(f))\n",
    "            labels.append((d))\n",
    "    return images, labels\n",
    "\n",
    "\n",
    "images, labels = load_data(train_path)\n",
    "len(images)"
   ]
  },
  {
   "cell_type": "code",
   "execution_count": 9,
   "metadata": {},
   "outputs": [
    {
     "name": "stdout",
     "output_type": "stream",
     "text": [
      "71\n",
      "71\n"
     ]
    }
   ],
   "source": [
    "# def load_data(data_dir, Class):\n",
    "#     Random='Random'\n",
    "    \n",
    "#     images=[]\n",
    "#     labels=[]\n",
    "#     label_dir = os.path.join(data_dir, Class,Random)\n",
    "#     file_names = [os.path.join(label_dir, f) \n",
    "#                 for f in os.listdir(label_dir) \n",
    "#                 if (f.endswith(\".jpg\")) | (f.endswith(\".JPG\")) ]\n",
    "#     for f in file_names:\n",
    "#         images.append(skimage.data.imread(f))\n",
    "#         labels.append((Class))\n",
    "#     return images, labels\n",
    "# images,labels =load_data(\"datasets/new_arabic_sign_language\",\"al\")\n",
    "# print(len(images))\n",
    "# print(len(labels))"
   ]
  },
  {
   "cell_type": "markdown",
   "metadata": {},
   "source": [
    "# preparing training and testing dataset for training"
   ]
  },
  {
   "cell_type": "code",
   "execution_count": 3,
   "metadata": {},
   "outputs": [],
   "source": [
    "X = np.array(images)\n",
    "y = np.array(labels)\n",
    "\n",
    "np.random.seed(42)\n",
    "rnd_idx = np.random.permutation(5831)\n",
    "X = X[rnd_idx]\n",
    "y = y[rnd_idx]\n",
    "\n",
    "X_train = X[:4664]\n",
    "y_train = y[:4664]\n",
    "X_test = X[4664:]\n",
    "y_test = y[4664:]\n",
    "\n",
    "nsamples, nx, ny = X_train.shape\n",
    "X_train_2d = X_train.reshape(nsamples,nx*ny)\n",
    "\n",
    "nsamples, nx, ny = X_test.shape\n",
    "X_test_2d = X_test.reshape(nsamples,nx*ny)"
   ]
  },
  {
   "cell_type": "markdown",
   "metadata": {},
   "source": [
    "# standardizing dataset"
   ]
  },
  {
   "cell_type": "code",
   "execution_count": 11,
   "metadata": {},
   "outputs": [],
   "source": [
    "from sklearn.preprocessing import StandardScaler\n",
    "scaler = StandardScaler()\n",
    "X_train_scaled = scaler.fit_transform(X_train_2d.astype(np.float32))\n",
    "X_test_scaled = scaler.transform(X_test_2d.astype(np.float32))"
   ]
  },
  {
   "cell_type": "markdown",
   "metadata": {},
   "source": [
    "# Creating ensemble of 3 different models: \n",
    "## Random forest, SVM and Kneighbors"
   ]
  },
  {
   "cell_type": "code",
   "execution_count": 7,
   "metadata": {},
   "outputs": [],
   "source": [
    "Random_forest = joblib.load('Random_Forest_with_Random_data_and_Grid_search.pkl')\n",
    "SVM = joblib.load('SVM_with_Random_data_and_Grid_search.pkl')\n",
    "KNeighhbors = joblib.load('KNeighborsClassifier_with_Random_data_and_Grid_search.pkl')\n"
   ]
  },
  {
   "cell_type": "code",
   "execution_count": 8,
   "metadata": {},
   "outputs": [],
   "source": [
    "from sklearn.ensemble import VotingClassifier\n",
    "\n",
    "named_estimators = [\n",
    "    (\"random_forest_clf\", Random_forest),\n",
    "    (\"K_Neighhbors\", KNeighhbors),\n",
    "    (\"svm_clf\", SVM),\n",
    "]\n"
   ]
  },
  {
   "cell_type": "code",
   "execution_count": 9,
   "metadata": {},
   "outputs": [],
   "source": [
    "voting_clf = VotingClassifier(named_estimators)"
   ]
  },
  {
   "cell_type": "markdown",
   "metadata": {},
   "source": [
    "# Training the ensemble"
   ]
  },
  {
   "cell_type": "code",
   "execution_count": 12,
   "metadata": {},
   "outputs": [
    {
     "name": "stdout",
     "output_type": "stream",
     "text": [
      "Fitting 5 folds for each of 10 candidates, totalling 50 fits\n",
      "[CV] n_neighbors=3, weights=uniform ..................................\n",
      "[CV] n_neighbors=3, weights=uniform ..................................\n",
      "[CV] n_neighbors=3, weights=uniform ..................................\n",
      "[CV] n_neighbors=3, weights=uniform ..................................\n",
      "[CV] ......... n_neighbors=3, weights=uniform, score=0.958199 -  30.2s\n",
      "[CV] n_neighbors=3, weights=uniform ..................................\n",
      "[CV] ......... n_neighbors=3, weights=uniform, score=0.973205 -  30.7s\n",
      "[CV] n_neighbors=3, weights=distance .................................\n",
      "[CV] ......... n_neighbors=3, weights=uniform, score=0.968917 -  31.5s\n",
      "[CV] n_neighbors=3, weights=distance .................................\n",
      "[CV] ......... n_neighbors=3, weights=uniform, score=0.966774 -  31.3s\n",
      "[CV] n_neighbors=3, weights=distance .................................\n",
      "[CV] ......... n_neighbors=3, weights=uniform, score=0.973176 -  33.3s\n",
      "[CV] n_neighbors=3, weights=distance .................................\n",
      "[CV] ........ n_neighbors=3, weights=distance, score=0.976420 -  32.2s\n",
      "[CV] n_neighbors=3, weights=distance .................................\n",
      "[CV] ........ n_neighbors=3, weights=distance, score=0.960343 -  31.6s\n",
      "[CV] n_neighbors=4, weights=uniform ..................................\n",
      "[CV] ........ n_neighbors=3, weights=distance, score=0.967846 -  33.5s\n",
      "[CV] n_neighbors=4, weights=uniform ..................................\n",
      "[CV] ........ n_neighbors=3, weights=distance, score=0.969989 -  32.4s\n",
      "[CV] n_neighbors=4, weights=uniform ..................................\n",
      "[CV] ........ n_neighbors=3, weights=distance, score=0.974249 -  34.2s\n",
      "[CV] n_neighbors=4, weights=uniform ..................................\n",
      "[CV] ......... n_neighbors=4, weights=uniform, score=0.957128 -  32.6s\n",
      "[CV] n_neighbors=4, weights=uniform ..................................\n",
      "[CV] ......... n_neighbors=4, weights=uniform, score=0.969989 -  33.4s\n",
      "[CV] n_neighbors=4, weights=distance .................................\n",
      "[CV] ......... n_neighbors=4, weights=uniform, score=0.963558 -  33.7s\n",
      "[CV] n_neighbors=4, weights=distance .................................\n",
      "[CV] ......... n_neighbors=4, weights=uniform, score=0.963558 -  34.1s\n",
      "[CV] n_neighbors=4, weights=distance .................................\n",
      "[CV] ......... n_neighbors=4, weights=uniform, score=0.971030 -  34.6s\n",
      "[CV] n_neighbors=4, weights=distance .................................\n",
      "[CV] ........ n_neighbors=4, weights=distance, score=0.961415 -  32.8s\n",
      "[CV] n_neighbors=4, weights=distance .................................\n",
      "[CV] ........ n_neighbors=4, weights=distance, score=0.976420 -  33.2s\n",
      "[CV] n_neighbors=5, weights=uniform ..................................\n",
      "[CV] ........ n_neighbors=4, weights=distance, score=0.966774 -  33.8s\n",
      "[CV] n_neighbors=5, weights=uniform ..................................\n",
      "[CV] ........ n_neighbors=4, weights=distance, score=0.967846 -  34.0s\n",
      "[CV] n_neighbors=5, weights=uniform ..................................\n",
      "[CV] ........ n_neighbors=4, weights=distance, score=0.973176 -  35.5s\n",
      "[CV] n_neighbors=5, weights=uniform ..................................\n",
      "[CV] ......... n_neighbors=5, weights=uniform, score=0.956056 -  33.4s\n",
      "[CV] n_neighbors=5, weights=uniform ..................................\n",
      "[CV] ......... n_neighbors=5, weights=uniform, score=0.965702 -  34.5s\n",
      "[CV] n_neighbors=5, weights=distance .................................\n",
      "[CV] ......... n_neighbors=5, weights=uniform, score=0.965702 -  34.1s\n",
      "[CV] n_neighbors=5, weights=distance .................................\n",
      "[CV] ......... n_neighbors=5, weights=uniform, score=0.960343 -  35.5s\n",
      "[CV] n_neighbors=5, weights=distance .................................\n"
     ]
    },
    {
     "name": "stderr",
     "output_type": "stream",
     "text": [
      "[Parallel(n_jobs=-1)]: Done  24 tasks      | elapsed: 16.8min\n"
     ]
    },
    {
     "name": "stdout",
     "output_type": "stream",
     "text": [
      "[CV] ......... n_neighbors=5, weights=uniform, score=0.965665 -  35.5s\n",
      "[CV] n_neighbors=5, weights=distance .................................\n",
      "[CV] ........ n_neighbors=5, weights=distance, score=0.958199 -  33.5s\n",
      "[CV] n_neighbors=5, weights=distance .................................\n",
      "[CV] ........ n_neighbors=5, weights=distance, score=0.971061 -  34.4s\n",
      "[CV] n_neighbors=8, weights=uniform ..................................\n",
      "[CV] ........ n_neighbors=5, weights=distance, score=0.969989 -  34.3s\n",
      "[CV] n_neighbors=8, weights=uniform ..................................\n",
      "[CV] ........ n_neighbors=5, weights=distance, score=0.961415 -  34.7s\n",
      "[CV] n_neighbors=8, weights=uniform ..................................\n",
      "[CV] ........ n_neighbors=5, weights=distance, score=0.968884 -  35.4s\n",
      "[CV] n_neighbors=8, weights=uniform ..................................\n",
      "[CV] ......... n_neighbors=8, weights=uniform, score=0.948553 -  35.3s\n",
      "[CV] n_neighbors=8, weights=uniform ..................................\n",
      "[CV] ......... n_neighbors=8, weights=uniform, score=0.962487 -  35.7s\n",
      "[CV] n_neighbors=8, weights=distance .................................\n",
      "[CV] ......... n_neighbors=8, weights=uniform, score=0.952840 -  36.2s\n",
      "[CV] n_neighbors=8, weights=distance .................................\n",
      "[CV] ......... n_neighbors=8, weights=uniform, score=0.957128 -  36.7s\n",
      "[CV] n_neighbors=8, weights=distance .................................\n",
      "[CV] ......... n_neighbors=8, weights=uniform, score=0.957082 -  36.9s\n",
      "[CV] n_neighbors=8, weights=distance .................................\n",
      "[CV] ........ n_neighbors=8, weights=distance, score=0.952840 -  35.8s\n",
      "[CV] n_neighbors=8, weights=distance .................................\n",
      "[CV] ........ n_neighbors=8, weights=distance, score=0.966774 -  35.9s\n",
      "[CV] n_neighbors=15, weights=uniform .................................\n",
      "[CV] ........ n_neighbors=8, weights=distance, score=0.958199 -  36.1s\n",
      "[CV] n_neighbors=15, weights=uniform .................................\n",
      "[CV] ........ n_neighbors=8, weights=distance, score=0.962487 -  36.6s\n",
      "[CV] n_neighbors=15, weights=uniform .................................\n",
      "[CV] ........ n_neighbors=8, weights=distance, score=0.963519 -  36.7s\n",
      "[CV] n_neighbors=15, weights=uniform .................................\n",
      "[CV] ........ n_neighbors=15, weights=uniform, score=0.930332 -  40.0s\n",
      "[CV] n_neighbors=15, weights=uniform .................................\n",
      "[CV] ........ n_neighbors=15, weights=uniform, score=0.944266 -  40.3s\n",
      "[CV] n_neighbors=15, weights=distance ................................\n",
      "[CV] ........ n_neighbors=15, weights=uniform, score=0.934620 -  40.7s\n",
      "[CV] n_neighbors=15, weights=distance ................................\n",
      "[CV] ........ n_neighbors=15, weights=uniform, score=0.928189 -  39.9s\n",
      "[CV] n_neighbors=15, weights=distance ................................\n",
      "[CV] ........ n_neighbors=15, weights=uniform, score=0.936695 -  40.5s\n",
      "[CV] n_neighbors=15, weights=distance ................................\n",
      "[CV] ....... n_neighbors=15, weights=distance, score=0.945338 -  40.1s\n",
      "[CV] n_neighbors=15, weights=distance ................................\n",
      "[CV] ....... n_neighbors=15, weights=distance, score=0.952840 -  39.7s\n",
      "[CV] ....... n_neighbors=15, weights=distance, score=0.961415 -  40.0s\n",
      "[CV] ....... n_neighbors=15, weights=distance, score=0.959271 -  34.7s\n",
      "[CV] ....... n_neighbors=15, weights=distance, score=0.954936 -  30.4s\n"
     ]
    },
    {
     "name": "stderr",
     "output_type": "stream",
     "text": [
      "[Parallel(n_jobs=-1)]: Done  50 out of  50 | elapsed: 37.5min finished\n"
     ]
    },
    {
     "data": {
      "text/plain": [
       "VotingClassifier(estimators=[('random_forest_clf', GridSearchCV(cv=5, error_score='raise',\n",
       "       estimator=RandomForestClassifier(bootstrap=True, class_weight=None, criterion='gini',\n",
       "            max_depth=7, max_features='auto', max_leaf_nodes=None,\n",
       "            min_impurity_split=1e-07, min_samples_leaf=1,\n",
       "        ...f', max_iter=-1, probability=False, random_state=None,\n",
       "  shrinking=True, tol=0.001, verbose=False))],\n",
       "         n_jobs=1, voting='hard', weights=None)"
      ]
     },
     "execution_count": 12,
     "metadata": {},
     "output_type": "execute_result"
    }
   ],
   "source": [
    "voting_clf.fit(X_train_scaled, y_train)"
   ]
  },
  {
   "cell_type": "markdown",
   "metadata": {},
   "source": [
    "# Evaluating results of training dataset"
   ]
  },
  {
   "cell_type": "code",
   "execution_count": 13,
   "metadata": {},
   "outputs": [
    {
     "name": "stderr",
     "output_type": "stream",
     "text": [
      "/home/ahmed/ml/env/lib/python3.6/site-packages/sklearn/preprocessing/label.py:167: DeprecationWarning: The truth value of an empty array is ambiguous. Returning False, but in future this will result in an error. Use `array.size > 0` to check that an array is not empty.\n",
      "  if diff:\n"
     ]
    },
    {
     "data": {
      "text/plain": [
       "1.0"
      ]
     },
     "execution_count": 13,
     "metadata": {},
     "output_type": "execute_result"
    }
   ],
   "source": [
    "voting_clf.score(X_train_scaled, y_train)"
   ]
  },
  {
   "cell_type": "markdown",
   "metadata": {},
   "source": [
    "# Evaluating results of testing dataset"
   ]
  },
  {
   "cell_type": "code",
   "execution_count": 14,
   "metadata": {},
   "outputs": [
    {
     "name": "stderr",
     "output_type": "stream",
     "text": [
      "/home/ahmed/ml/env/lib/python3.6/site-packages/sklearn/preprocessing/label.py:167: DeprecationWarning: The truth value of an empty array is ambiguous. Returning False, but in future this will result in an error. Use `array.size > 0` to check that an array is not empty.\n",
      "  if diff:\n"
     ]
    },
    {
     "data": {
      "text/plain": [
       "0.9777206512425022"
      ]
     },
     "execution_count": 14,
     "metadata": {},
     "output_type": "execute_result"
    }
   ],
   "source": [
    "voting_clf.score(X_test_scaled, y_test)"
   ]
  },
  {
   "cell_type": "code",
   "execution_count": 17,
   "metadata": {},
   "outputs": [],
   "source": [
    "voting_clf.voting = \"hard\""
   ]
  },
  {
   "cell_type": "code",
   "execution_count": 18,
   "metadata": {},
   "outputs": [
    {
     "name": "stderr",
     "output_type": "stream",
     "text": [
      "/home/ahmed/ml/env/lib/python3.6/site-packages/sklearn/preprocessing/label.py:167: DeprecationWarning: The truth value of an empty array is ambiguous. Returning False, but in future this will result in an error. Use `array.size > 0` to check that an array is not empty.\n",
      "  if diff:\n"
     ]
    },
    {
     "data": {
      "text/plain": [
       "0.9777206512425022"
      ]
     },
     "execution_count": 18,
     "metadata": {},
     "output_type": "execute_result"
    }
   ],
   "source": [
    "voting_clf.score(X_test_scaled, y_test)"
   ]
  },
  {
   "cell_type": "markdown",
   "metadata": {},
   "source": [
    "# saving model"
   ]
  },
  {
   "cell_type": "code",
   "execution_count": 20,
   "metadata": {},
   "outputs": [
    {
     "data": {
      "text/plain": [
       "['Ensemble.pkl']"
      ]
     },
     "execution_count": 20,
     "metadata": {},
     "output_type": "execute_result"
    }
   ],
   "source": [
    "from sklearn.externals import joblib\n",
    "# Output a pickle file for the model\n",
    "joblib.dump(voting_clf, 'Ensemble.pkl') "
   ]
  },
  {
   "cell_type": "code",
   "execution_count": null,
   "metadata": {},
   "outputs": [],
   "source": []
  }
 ],
 "metadata": {
  "kernelspec": {
   "display_name": "Python 3",
   "language": "python",
   "name": "python3"
  },
  "language_info": {
   "codemirror_mode": {
    "name": "ipython",
    "version": 3
   },
   "file_extension": ".py",
   "mimetype": "text/x-python",
   "name": "python",
   "nbconvert_exporter": "python",
   "pygments_lexer": "ipython3",
   "version": "3.6.7"
  }
 },
 "nbformat": 4,
 "nbformat_minor": 2
}
